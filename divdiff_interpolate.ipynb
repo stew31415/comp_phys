{
 "cells": [
  {
   "cell_type": "markdown",
   "metadata": {
    "deletable": true,
    "editable": true
   },
   "source": [
    "divdiff_interpolate"
   ]
  },
  {
   "cell_type": "markdown",
   "metadata": {
    "deletable": true,
    "editable": true
   },
   "source": [
    "Input 3 points in ascending x-values and get an interpolating polynomial that fits these points."
   ]
  },
  {
   "cell_type": "code",
   "execution_count": 5,
   "metadata": {
    "collapsed": false,
    "deletable": true,
    "editable": true
   },
   "outputs": [
    {
     "name": "stdout",
     "output_type": "stream",
     "text": [
      "Please input 3 points in ascending x-values\n",
      "x0 = 2\n",
      "y0 = 5\n",
      "x1 = 3\n",
      "y1 = 6\n",
      "x2 = 7\n",
      "y2 = 1\n",
      "You entered the points:  ( 2.0 , 5.0 ) ; ( 3.0 , 6.0 ) ; ( 7.0 , 1.0 )\n",
      "f(x) =  5.0  +  ( x - 2.0 ) * 1.0  +  ( x - 2.0 )( x - 3.0 ) * -0.45\n"
     ]
    }
   ],
   "source": [
    "print \"Please input 3 points in ascending x-values\"\n",
    "\n",
    "x0 = float(input(\"x0 = \"))\n",
    "y0 = float(input(\"y0 = \"))\n",
    "x1 = float(input(\"x1 = \"))\n",
    "y1 = float(input(\"y1 = \"))\n",
    "x2 = float(input(\"x2 = \"))\n",
    "y2 = float(input(\"y2 = \"))\n",
    "\n",
    "print \"You entered the points: \", \"(\", x0, \",\", y0, \")\", \";\", \"(\", x1, \",\", y1, \")\", \";\", \"(\", x2, \",\", y2, \")\"\n",
    "\n",
    "divdiff01 = (y1-y0)/(x1-x0)\n",
    "divdiff12 = (y2-y1)/(x2-x1)\n",
    "divdiff012 = (divdiff12-divdiff01)/(x2-x0)\n",
    "\n",
    "print \"f(x) = \", y0, \" + \", \"( x -\", x0, \")\", \"*\", round(divdiff01, 3), \" + \", \"( x -\", x0, \")( x -\", x1, \")\", \"*\", round(divdiff012, 3)"
   ]
  }
 ],
 "metadata": {
  "kernelspec": {
   "display_name": "Python 2",
   "language": "python",
   "name": "python2"
  },
  "language_info": {
   "codemirror_mode": {
    "name": "ipython",
    "version": 2
   },
   "file_extension": ".py",
   "mimetype": "text/x-python",
   "name": "python",
   "nbconvert_exporter": "python",
   "pygments_lexer": "ipython2",
   "version": "2.7.13"
  }
 },
 "nbformat": 4,
 "nbformat_minor": 2
}
